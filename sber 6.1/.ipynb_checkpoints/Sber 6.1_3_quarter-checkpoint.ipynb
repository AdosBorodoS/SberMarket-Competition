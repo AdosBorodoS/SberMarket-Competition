{
 "cells": [
  {
   "cell_type": "code",
   "execution_count": 1,
   "id": "d0429888",
   "metadata": {},
   "outputs": [],
   "source": [
    "import pandas as pd\n",
    "import numpy as np\n",
    "import matplotlib.pyplot as plt\n",
    "from IPython.display import clear_output\n",
    "# Models\n",
    "from sklearn.linear_model import LogisticRegression\n",
    "from sklearn.tree import DecisionTreeClassifier\n",
    "from sklearn.ensemble import RandomForestClassifier\n",
    "from sklearn.neighbors import KNeighborsClassifier\n",
    "from sklearn.naive_bayes import GaussianNB\n",
    "# score\n",
    "from sklearn.metrics import f1_score\n",
    "\n",
    "train_ds=pd.read_csv(r'C:\\\\Users\\\\79375\\\\Desktop\\\\DS\\\\sber\\\\train.csv')\n",
    "test_ds=pd.read_csv(r'C:\\\\Users\\\\79375\\\\Desktop\\\\DS\\\\sber\\\\sample_submission.csv')\n",
    "\n",
    "test_ds['user_id'] = test_ds['id'].apply(lambda x: int(x.split(';')[0]))\n",
    "test_ds['cart'] = test_ds['id'].apply(lambda x: int(x.split(';')[1]))\n",
    "test_ds.drop('id', axis=1, inplace=True)\n",
    "train_ds.drop('order_completed_at', axis=1, inplace=True)\n",
    "train_ds['target'] = train_ds.duplicated(keep=0).apply(lambda x: 1 if x == 1 else 0)"
   ]
  },
  {
   "cell_type": "code",
   "execution_count": 2,
   "id": "c2eec6e4",
   "metadata": {},
   "outputs": [],
   "source": [
    "def procent(id_tuple_test):\n",
    "    progress=id_tuple_test.count()\n",
    "    i=0\n",
    "    procent=[]\n",
    "    while i <=100 :\n",
    "        procent.append(int(round((progress/100)*i,0)))\n",
    "        i+=1\n",
    "    return procent"
   ]
  },
  {
   "cell_type": "code",
   "execution_count": 3,
   "id": "38310357",
   "metadata": {},
   "outputs": [],
   "source": [
    "user_id_train=pd.Series(train_ds['user_id'].drop_duplicates())\n",
    "user_id_train=user_id_train.sort_values()"
   ]
  },
  {
   "cell_type": "code",
   "execution_count": 4,
   "id": "f44bb439",
   "metadata": {},
   "outputs": [
    {
     "name": "stdout",
     "output_type": "stream",
     "text": [
      "100  %\n"
     ]
    }
   ],
   "source": [
    "customers_buy_map=[]\n",
    "lap=1\n",
    "process=procent(user_id_train)\n",
    "for index in user_id_train:\n",
    "    customer_cart_map=train_ds[train_ds['user_id']==index]\n",
    "    customer_cart_map=customer_cart_map.drop_duplicates('cart')\n",
    "    customers_buy_map.append(customer_cart_map)\n",
    "    if index in process:\n",
    "        clear_output()\n",
    "        print(lap,' %')\n",
    "        lap+=1"
   ]
  },
  {
   "cell_type": "code",
   "execution_count": 5,
   "id": "639f9171",
   "metadata": {},
   "outputs": [],
   "source": [
    "user_id_test=pd.Series(test_ds['user_id'].drop_duplicates())\n",
    "user_id_test=user_id_test.sort_values()\n",
    "user_id_test_0_3259_1_quarter=user_id_test[0:3259]\n",
    "user_id_test_3259_6518_2_quarter=user_id_test[3259:6518]\n",
    "user_id_test_6518_9777_3_quarter=user_id_test[6518:9777]\n",
    "user_id_test_9777_0_4_quarter=user_id_test[9777:-1]"
   ]
  },
  {
   "cell_type": "code",
   "execution_count": 6,
   "id": "a0866bb4",
   "metadata": {},
   "outputs": [
    {
     "name": "stdout",
     "output_type": "stream",
     "text": [
      "3259\n"
     ]
    }
   ],
   "source": [
    "vactor_map=[]\n",
    "top=10\n",
    "lap=1\n",
    "index=1\n",
    "process=procent(user_id_test_6518_9777_3_quarter)\n",
    "for index_test in user_id_test_6518_9777_3_quarter:\n",
    "    ds=pd.DataFrame()\n",
    "    cart_cust=customers_buy_map[index_test]['cart']\n",
    "#     беру айтем из тестового списка\n",
    "    vector_id=[]\n",
    "    vector_c=[]\n",
    "    for vector in range(len(customers_buy_map)):\n",
    "        count=0\n",
    "        vector_cart=list(pd.Series(customers_buy_map[vector][\"cart\"]))\n",
    "        for item in cart_cust:\n",
    "            if item in vector_cart:\n",
    "                count+=1\n",
    "        vector_id.append(vector)\n",
    "        vector_c.append(count)\n",
    "    ds['id']=vector_id\n",
    "    ds['count']=vector_c\n",
    "    ds=ds[ds['id']!=index_test]\n",
    "    ds=ds.sort_values('count',ascending=False)\n",
    "    ds=ds.drop(\"count\",axis=1)\n",
    "    if top<ds[\"id\"].count():\n",
    "        ds=ds[0:top]\n",
    "    ds=pd.Series(ds['id'])\n",
    "    vactor_map.append(list(ds))\n",
    "    \n",
    "    if index in process:\n",
    "        clear_output()\n",
    "        print(lap,' %')\n",
    "        lap+=1\n",
    "    clear_output()\n",
    "    print(index)\n",
    "    index+=1"
   ]
  },
  {
   "cell_type": "code",
   "execution_count": 8,
   "id": "f97c1ca1",
   "metadata": {},
   "outputs": [],
   "source": [
    "DS_csv=pd.DataFrame(columns=['1','2','3','4','5','6','7','8','9','10'])\n",
    "index=0\n",
    "i=0\n",
    "for ij in vactor_map:\n",
    "    vector=[]\n",
    "    for j in vactor_map[i]:\n",
    "        vector.append(j)\n",
    "    DS_csv.loc[index]=vector\n",
    "    i+=1\n",
    "    index+=1\n",
    "DS_csv.to_csv('3_quarter.csv', index=False)"
   ]
  },
  {
   "cell_type": "code",
   "execution_count": null,
   "id": "5956c31b",
   "metadata": {},
   "outputs": [],
   "source": []
  }
 ],
 "metadata": {
  "kernelspec": {
   "display_name": "Python 3",
   "language": "python",
   "name": "python3"
  },
  "language_info": {
   "codemirror_mode": {
    "name": "ipython",
    "version": 3
   },
   "file_extension": ".py",
   "mimetype": "text/x-python",
   "name": "python",
   "nbconvert_exporter": "python",
   "pygments_lexer": "ipython3",
   "version": "3.8.8"
  }
 },
 "nbformat": 4,
 "nbformat_minor": 5
}
