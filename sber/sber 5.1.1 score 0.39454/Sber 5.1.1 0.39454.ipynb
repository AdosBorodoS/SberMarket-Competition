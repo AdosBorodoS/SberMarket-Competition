{
 "cells": [
  {
   "cell_type": "code",
   "execution_count": 122,
   "id": "8013d11b",
   "metadata": {},
   "outputs": [],
   "source": [
    "import pandas as pd\n",
    "import numpy as np\n",
    "import matplotlib.pyplot as plt\n",
    "from IPython.display import clear_output\n",
    "# Models\n",
    "from sklearn.linear_model import LogisticRegression\n",
    "from sklearn.tree import DecisionTreeClassifier\n",
    "from sklearn.ensemble import RandomForestClassifier\n",
    "from sklearn.neighbors import KNeighborsClassifier\n",
    "from sklearn.naive_bayes import GaussianNB\n",
    "# score\n",
    "from sklearn.metrics import f1_score\n",
    "\n",
    "train_ds=pd.read_csv(r'C:\\\\Users\\\\79375\\\\Desktop\\\\DS\\\\sber\\\\train.csv')\n",
    "test_ds=pd.read_csv(r'C:\\\\Users\\\\79375\\\\Desktop\\\\DS\\\\sber\\\\sample_submission.csv')\n",
    "\n",
    "test_ds['user_id'] = test_ds['id'].apply(lambda x: int(x.split(';')[0]))\n",
    "test_ds['cart'] = test_ds['id'].apply(lambda x: int(x.split(';')[1]))\n",
    "test_ds.drop('id', axis=1, inplace=True)\n",
    "train_ds.drop('order_completed_at', axis=1, inplace=True)\n",
    "train_ds['target'] = train_ds.duplicated(keep=0).apply(lambda x: 1 if x == 1 else 0)"
   ]
  },
  {
   "cell_type": "code",
   "execution_count": 123,
   "id": "7494697c",
   "metadata": {},
   "outputs": [],
   "source": [
    "id_tuple=pd.Series(train_ds['user_id'].drop_duplicates())\n",
    "id_tuple=id_tuple.sort_values()"
   ]
  },
  {
   "cell_type": "code",
   "execution_count": 124,
   "id": "d9085174",
   "metadata": {},
   "outputs": [],
   "source": [
    "def procent(id_tuple_test):\n",
    "    progress=id_tuple_test.count()\n",
    "    i=0\n",
    "    procent=[]\n",
    "    while i <=100 :\n",
    "        procent.append(int(round((progress/100)*i,0)))\n",
    "        i+=1\n",
    "    return procent"
   ]
  },
  {
   "cell_type": "code",
   "execution_count": 125,
   "id": "41e35409",
   "metadata": {},
   "outputs": [
    {
     "name": "stdout",
     "output_type": "stream",
     "text": [
      "100  %\n"
     ]
    }
   ],
   "source": [
    "castomers_buy_map=[]\n",
    "lap=1\n",
    "process=procent(id_tuple)\n",
    "for index in id_tuple:\n",
    "    castomer_top_cart=train_ds[train_ds['user_id']==index]\n",
    "    castomers_buy_map.append(castomer_top_cart)\n",
    "    if index in process:\n",
    "        clear_output()\n",
    "        print(lap,' %')\n",
    "        lap+=1"
   ]
  },
  {
   "cell_type": "code",
   "execution_count": 138,
   "id": "d9197b6d",
   "metadata": {},
   "outputs": [],
   "source": [
    "def cart_index_test_func(test_ds1):\n",
    "    lap=1\n",
    "    index=0\n",
    "    process=procent(test_ds1['user_id'])\n",
    "    cart_index_test=[]\n",
    "    for i in range(test_ds['user_id'].count()):\n",
    "        part_cart_index=[]\n",
    "        part_cart_index.append(test_ds1.loc[i]['cart'])\n",
    "        part_cart_index.append(test_ds1.loc[i]['user_id'])\n",
    "        cart_index_test.append(part_cart_index)\n",
    "        if index in process:\n",
    "            clear_output()\n",
    "            print(lap,' %')\n",
    "            lap+=1\n",
    "        index+=1\n",
    "    return cart_index_test"
   ]
  },
  {
   "cell_type": "code",
   "execution_count": 139,
   "id": "2ea137f6",
   "metadata": {},
   "outputs": [
    {
     "name": "stdout",
     "output_type": "stream",
     "text": [
      "100  %\n"
     ]
    }
   ],
   "source": [
    "cart_index_map=cart_index_test_func(test_ds)"
   ]
  },
  {
   "cell_type": "code",
   "execution_count": 140,
   "id": "3ad0aacd",
   "metadata": {},
   "outputs": [],
   "source": [
    "id_tuple=pd.Series(train_ds['user_id'].drop_duplicates())\n",
    "id_tuple=id_tuple.sort_values()"
   ]
  },
  {
   "cell_type": "code",
   "execution_count": 141,
   "id": "c32e5042",
   "metadata": {},
   "outputs": [],
   "source": [
    "def castomeers_cart_map(id_tuple1):\n",
    "    lap=1\n",
    "    index=0\n",
    "    process=procent(id_tuple1)\n",
    "    customer_cart_index_target=[]\n",
    "    for index_id in id_tuple1:\n",
    "        customers_cart=train_ds[train_ds['user_id']==index_id]\n",
    "        customer_cart_index_target.append(customers_cart)\n",
    "        if index in process:\n",
    "            clear_output()\n",
    "            print(lap,' %')\n",
    "            lap+=1\n",
    "        index+=1\n",
    "    return customer_cart_index_target"
   ]
  },
  {
   "cell_type": "code",
   "execution_count": 142,
   "id": "3168e24e",
   "metadata": {},
   "outputs": [
    {
     "name": "stdout",
     "output_type": "stream",
     "text": [
      "100  %\n"
     ]
    }
   ],
   "source": [
    "castomer_map=castomeers_cart_map(id_tuple)"
   ]
  },
  {
   "cell_type": "code",
   "execution_count": 174,
   "id": "4fb90375",
   "metadata": {},
   "outputs": [
    {
     "name": "stdout",
     "output_type": "stream",
     "text": [
      "100  %\n"
     ]
    }
   ],
   "source": [
    "predict_map=[]\n",
    "\n",
    "process=procent(test_ds['user_id'])\n",
    "lap=1\n",
    "index_lap=0\n",
    "\n",
    "\n",
    "top_carts=train_ds[['target','cart']].groupby('cart').sum().sort_values(by='target',ascending=False)\n",
    "top_carts=top_carts[0:20]\n",
    "top_carts=list(pd.Series(top_carts.index))\n",
    "global_log=[]\n",
    "\n",
    "\n",
    "for cart, index in cart_index_map:\n",
    "    customers_cart=castomer_map[index]\n",
    "    customers_cart=customers_cart['cart']\n",
    "    customers_cart=list(pd.Series(customers_cart))\n",
    "    \n",
    "    castomer_target_cart=castomer_map[index]\n",
    "    castomer_target_cart=castomer_target_cart[castomer_target_cart['target']==1]\n",
    "    castomer_target_cart=castomer_target_cart['cart']\n",
    "    castomer_target_cart=list(pd.Series(castomer_target_cart))\n",
    "\n",
    "    if (cart in customers_cart)and(cart in castomer_target_cart)and(cart in top_carts):\n",
    "        predict_map.append(1)\n",
    "    elif (cart in customers_cart)and(cart in castomer_target_cart)and not(cart in top_carts):\n",
    "        predict_map.append(1)\n",
    "    elif (cart in customers_cart) and not(cart in castomer_target_cart) and not(cart in top_carts):\n",
    "        predict_map.append(0)\n",
    "    elif (cart in customers_cart) and not(cart in castomer_target_cart) and (cart in top_carts):        \n",
    "        Castomet_cart_target_top=0\n",
    "        for customers_cart_item in castomer_target_cart: \n",
    "            if customers_cart_item in top_carts:\n",
    "                Castomet_cart_target_top+=1\n",
    "        if len(castomer_target_cart)==0:\n",
    "            if (cart in top_carts):\n",
    "                predict_map.append(1)\n",
    "        elif len(castomer_target_cart)!=0:\n",
    "            predict_proc=Castomet_cart_target_top/len(castomer_target_cart)\n",
    "            if predict_proc>=0.2:\n",
    "                predict_map.append(1)\n",
    "            elif predict_proc<0.2:\n",
    "                predict_map.append(0)\n",
    "        \n",
    "    if index_lap in process:\n",
    "        clear_output()\n",
    "        print(lap,' %')\n",
    "        lap+=1\n",
    "    index_lap+=1"
   ]
  },
  {
   "cell_type": "code",
   "execution_count": 175,
   "id": "3bf95623",
   "metadata": {},
   "outputs": [],
   "source": [
    "def scv_submiss(predictions, files_name='Standart_name'):\n",
    "    id_cart=test_ds.user_id.apply(str) + ';' + test_ds.cart.apply(str)\n",
    "    submission = pd.DataFrame({'id': id_cart, 'target': predictions})\n",
    "    submission.to_csv(files_name+'.csv', index=False)"
   ]
  },
  {
   "cell_type": "code",
   "execution_count": 176,
   "id": "141a7c54",
   "metadata": {},
   "outputs": [],
   "source": [
    "scv_submiss(predict_map, files_name='Standart_name 5.8')"
   ]
  },
  {
   "cell_type": "code",
   "execution_count": 177,
   "id": "948e56f1",
   "metadata": {},
   "outputs": [
    {
     "data": {
      "text/plain": [
       "0.5382470983202189"
      ]
     },
     "execution_count": 177,
     "metadata": {},
     "output_type": "execute_result"
    }
   ],
   "source": [
    "f1_score(test_ds['target'],predict_map)"
   ]
  },
  {
   "cell_type": "code",
   "execution_count": null,
   "id": "fadbaa49",
   "metadata": {},
   "outputs": [],
   "source": []
  }
 ],
 "metadata": {
  "kernelspec": {
   "display_name": "Python 3",
   "language": "python",
   "name": "python3"
  },
  "language_info": {
   "codemirror_mode": {
    "name": "ipython",
    "version": 3
   },
   "file_extension": ".py",
   "mimetype": "text/x-python",
   "name": "python",
   "nbconvert_exporter": "python",
   "pygments_lexer": "ipython3",
   "version": "3.8.8"
  }
 },
 "nbformat": 4,
 "nbformat_minor": 5
}
