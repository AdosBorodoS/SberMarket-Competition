{
 "cells": [
  {
   "cell_type": "code",
   "execution_count": 202,
   "id": "7f8aefce",
   "metadata": {},
   "outputs": [],
   "source": [
    "import pandas as pd\n",
    "from IPython.display import clear_output"
   ]
  },
  {
   "cell_type": "code",
   "execution_count": 236,
   "id": "3aa730e3",
   "metadata": {},
   "outputs": [],
   "source": [
    "quarter_1=pd.read_csv(r'C:\\Users\\79375\\Desktop\\jupyter projects\\sber\\sber 6.1\\1_quarter_all.csv')\n",
    "quarter_2=pd.read_csv(r'C:\\Users\\79375\\Desktop\\jupyter projects\\sber\\sber 6.1\\2_quarter_all.csv')\n",
    "quarter_3=pd.read_csv(r'C:\\Users\\79375\\Desktop\\jupyter projects\\sber\\sber 6.1\\3_quarter_all.csv')\n",
    "quarter_4=pd.read_csv(r'C:\\Users\\79375\\Desktop\\jupyter projects\\sber\\sber 6.1\\4_quarter_all.csv')\n",
    "train_ds=pd.read_csv(r'C:\\\\Users\\\\79375\\\\Desktop\\\\DS\\\\sber\\\\train.csv')\n",
    "test_ds=pd.read_csv(r'C:\\\\Users\\\\79375\\\\Desktop\\\\DS\\\\sber\\\\sample_submission.csv')\n",
    "\n",
    "test_ds['user_id'] = test_ds['id'].apply(lambda x: int(x.split(';')[0]))\n",
    "test_ds['cart'] = test_ds['id'].apply(lambda x: int(x.split(';')[1]))\n",
    "test_ds.drop('id', axis=1, inplace=True)\n",
    "train_ds.drop('order_completed_at', axis=1, inplace=True)\n",
    "train_ds['target'] = train_ds.duplicated(keep=0).apply(lambda x: 1 if x == 1 else 0)"
   ]
  },
  {
   "cell_type": "code",
   "execution_count": 237,
   "id": "3306284e",
   "metadata": {},
   "outputs": [],
   "source": [
    "def procent(id_tuple_test):\n",
    "    progress=id_tuple_test.count()\n",
    "    i=0\n",
    "    procent=[]\n",
    "    while i <=100 :\n",
    "        procent.append(int(round((progress/100)*i,0)))\n",
    "        i+=1\n",
    "    return procent"
   ]
  },
  {
   "cell_type": "code",
   "execution_count": 238,
   "id": "0047beda",
   "metadata": {},
   "outputs": [
    {
     "data": {
      "text/plain": [
       "2422913        0\n",
       "65467          1\n",
       "0              2\n",
       "16             3\n",
       "18             4\n",
       "           ...  \n",
       "3049047    19995\n",
       "3049764    19996\n",
       "3053375    19997\n",
       "3054305    19998\n",
       "3074014    19999\n",
       "Name: user_id, Length: 20000, dtype: int64"
      ]
     },
     "execution_count": 238,
     "metadata": {},
     "output_type": "execute_result"
    }
   ],
   "source": [
    "user_id_train=pd.Series(train_ds['user_id'].drop_duplicates())\n",
    "user_id_train=user_id_train.sort_values()\n",
    "user_id_train"
   ]
  },
  {
   "cell_type": "code",
   "execution_count": 239,
   "id": "fbcd6ec2",
   "metadata": {},
   "outputs": [
    {
     "data": {
      "text/plain": [
       "0             0\n",
       "36            1\n",
       "56            3\n",
       "94            4\n",
       "144           5\n",
       "          ...  \n",
       "790343    19994\n",
       "790372    19995\n",
       "790381    19996\n",
       "790398    19997\n",
       "790436    19998\n",
       "Name: user_id, Length: 13036, dtype: int64"
      ]
     },
     "execution_count": 239,
     "metadata": {},
     "output_type": "execute_result"
    }
   ],
   "source": [
    "user_id_test=pd.Series(test_ds['user_id'].drop_duplicates())\n",
    "user_id_test=user_id_test.sort_values()\n",
    "user_id_test"
   ]
  },
  {
   "cell_type": "code",
   "execution_count": 240,
   "id": "30371d5f",
   "metadata": {},
   "outputs": [
    {
     "name": "stdout",
     "output_type": "stream",
     "text": [
      "100  %\n"
     ]
    }
   ],
   "source": [
    "customers_buy_map=[]\n",
    "lap=1\n",
    "process=procent(user_id_train)\n",
    "for index in user_id_train:\n",
    "    customer_cart_map=train_ds[train_ds['user_id']==index]\n",
    "    customer_cart_map=customer_cart_map.drop_duplicates('cart')\n",
    "    customers_buy_map.append(customer_cart_map)\n",
    "    if index in process:\n",
    "        clear_output()\n",
    "        print(lap,' %')\n",
    "        lap+=1"
   ]
  },
  {
   "cell_type": "code",
   "execution_count": 241,
   "id": "68e1abdf",
   "metadata": {},
   "outputs": [],
   "source": [
    "customers_buy_map_index_reset=[]\n",
    "for i in customers_buy_map:\n",
    "    reset= i.reset_index(drop=True)\n",
    "    customers_buy_map_index_reset.append(reset)"
   ]
  },
  {
   "cell_type": "code",
   "execution_count": 242,
   "id": "cb017897",
   "metadata": {},
   "outputs": [],
   "source": [
    "vectors=[quarter_1,quarter_2,quarter_3,quarter_4]\n",
    "global_vector_map=pd.concat(vectors)"
   ]
  },
  {
   "cell_type": "code",
   "execution_count": 243,
   "id": "2276a418",
   "metadata": {},
   "outputs": [],
   "source": [
    "global_vector_map_list=[]\n",
    "for index in range(global_vector_map['1'].count()):\n",
    "    vectors_map=global_vector_map.iloc[index]\n",
    "    global_vector_map_list.append(list(pd.Series(vectors_map)))"
   ]
  },
  {
   "cell_type": "code",
   "execution_count": 244,
   "id": "e4c2a0de",
   "metadata": {
    "scrolled": true
   },
   "outputs": [
    {
     "name": "stdout",
     "output_type": "stream",
     "text": [
      "100  %\n"
     ]
    }
   ],
   "source": [
    "# for index in range(test_ds['target'].count())\n",
    "lap=1\n",
    "predict=[]\n",
    "process=procent(test_ds['target'])\n",
    "for index in range(test_ds['target'].count()):\n",
    "    user_id=test_ds.iloc[index]['user_id']\n",
    "    user_cart=test_ds.iloc[index]['cart']\n",
    "    target_counter=0\n",
    "    cart_counert=0\n",
    "    for vector in global_vector_map_list[user_id]:\n",
    "        if user_cart in  list(pd.Series(customers_buy_map[vector]['cart'])):\n",
    "            index_cart=customers_buy_map_index_reset[user_id][customers_buy_map_index_reset[user_id]['cart']==user_cart].index\n",
    "            target=customers_buy_map_index_reset[user_id].iloc[index_cart]['target']\n",
    "            target=int(target)\n",
    "            if target==1:\n",
    "                target_counter+=1\n",
    "            cart_counert+=1\n",
    "    if cart_counert!=0:\n",
    "        predict.append(1 if target_counter/cart_counert>0.4 else 0)\n",
    "    else:\n",
    "        predict.append(0)\n",
    "    if index in process:\n",
    "        clear_output()\n",
    "        print(lap,' %')\n",
    "        lap+=1\n",
    "    \n",
    "# predict\n",
    "        "
   ]
  },
  {
   "cell_type": "code",
   "execution_count": 249,
   "id": "4e28abe6",
   "metadata": {},
   "outputs": [
    {
     "data": {
      "text/html": [
       "<div>\n",
       "<style scoped>\n",
       "    .dataframe tbody tr th:only-of-type {\n",
       "        vertical-align: middle;\n",
       "    }\n",
       "\n",
       "    .dataframe tbody tr th {\n",
       "        vertical-align: top;\n",
       "    }\n",
       "\n",
       "    .dataframe thead th {\n",
       "        text-align: right;\n",
       "    }\n",
       "</style>\n",
       "<table border=\"1\" class=\"dataframe\">\n",
       "  <thead>\n",
       "    <tr style=\"text-align: right;\">\n",
       "      <th></th>\n",
       "      <th>user_id</th>\n",
       "      <th>cart</th>\n",
       "      <th>target</th>\n",
       "    </tr>\n",
       "  </thead>\n",
       "  <tbody>\n",
       "    <tr>\n",
       "      <th>0</th>\n",
       "      <td>0</td>\n",
       "      <td>133</td>\n",
       "      <td>0</td>\n",
       "    </tr>\n",
       "    <tr>\n",
       "      <th>1</th>\n",
       "      <td>0</td>\n",
       "      <td>5</td>\n",
       "      <td>0</td>\n",
       "    </tr>\n",
       "    <tr>\n",
       "      <th>2</th>\n",
       "      <td>0</td>\n",
       "      <td>10</td>\n",
       "      <td>0</td>\n",
       "    </tr>\n",
       "    <tr>\n",
       "      <th>3</th>\n",
       "      <td>0</td>\n",
       "      <td>396</td>\n",
       "      <td>0</td>\n",
       "    </tr>\n",
       "    <tr>\n",
       "      <th>4</th>\n",
       "      <td>0</td>\n",
       "      <td>14</td>\n",
       "      <td>1</td>\n",
       "    </tr>\n",
       "    <tr>\n",
       "      <th>...</th>\n",
       "      <td>...</td>\n",
       "      <td>...</td>\n",
       "      <td>...</td>\n",
       "    </tr>\n",
       "    <tr>\n",
       "      <th>790444</th>\n",
       "      <td>19998</td>\n",
       "      <td>26</td>\n",
       "      <td>0</td>\n",
       "    </tr>\n",
       "    <tr>\n",
       "      <th>790445</th>\n",
       "      <td>19998</td>\n",
       "      <td>31</td>\n",
       "      <td>0</td>\n",
       "    </tr>\n",
       "    <tr>\n",
       "      <th>790446</th>\n",
       "      <td>19998</td>\n",
       "      <td>29</td>\n",
       "      <td>0</td>\n",
       "    </tr>\n",
       "    <tr>\n",
       "      <th>790447</th>\n",
       "      <td>19998</td>\n",
       "      <td>798</td>\n",
       "      <td>0</td>\n",
       "    </tr>\n",
       "    <tr>\n",
       "      <th>790448</th>\n",
       "      <td>19998</td>\n",
       "      <td>415</td>\n",
       "      <td>1</td>\n",
       "    </tr>\n",
       "  </tbody>\n",
       "</table>\n",
       "<p>790449 rows × 3 columns</p>\n",
       "</div>"
      ],
      "text/plain": [
       "        user_id  cart  target\n",
       "0             0   133       0\n",
       "1             0     5       0\n",
       "2             0    10       0\n",
       "3             0   396       0\n",
       "4             0    14       1\n",
       "...         ...   ...     ...\n",
       "790444    19998    26       0\n",
       "790445    19998    31       0\n",
       "790446    19998    29       0\n",
       "790447    19998   798       0\n",
       "790448    19998   415       1\n",
       "\n",
       "[790449 rows x 3 columns]"
      ]
     },
     "execution_count": 249,
     "metadata": {},
     "output_type": "execute_result"
    }
   ],
   "source": [
    "test_ds1=test_ds.drop('target', axis=1)\n",
    "test_ds1['target']=predict\n",
    "test_ds1\n"
   ]
  },
  {
   "cell_type": "code",
   "execution_count": 250,
   "id": "1bd78fb8",
   "metadata": {},
   "outputs": [],
   "source": [
    "def scv_submiss(predictions, files_name='Standart_name'):\n",
    "    id_cart=test_ds.user_id.apply(str) + ';' + test_ds.cart.apply(str)\n",
    "    submission = pd.DataFrame({'id': id_cart, 'target': predictions})\n",
    "    submission.to_csv(files_name+'.csv', index=False)"
   ]
  },
  {
   "cell_type": "code",
   "execution_count": 251,
   "id": "7c6c7404",
   "metadata": {},
   "outputs": [],
   "source": [
    "scv_submiss(predict,files_name='sber_6.1_submis')"
   ]
  },
  {
   "cell_type": "code",
   "execution_count": null,
   "id": "eb2bc1c6",
   "metadata": {
    "scrolled": true
   },
   "outputs": [],
   "source": []
  },
  {
   "cell_type": "code",
   "execution_count": null,
   "id": "01115d5c",
   "metadata": {},
   "outputs": [],
   "source": []
  },
  {
   "cell_type": "code",
   "execution_count": null,
   "id": "ac1fa531",
   "metadata": {},
   "outputs": [],
   "source": []
  }
 ],
 "metadata": {
  "kernelspec": {
   "display_name": "Python 3",
   "language": "python",
   "name": "python3"
  },
  "language_info": {
   "codemirror_mode": {
    "name": "ipython",
    "version": 3
   },
   "file_extension": ".py",
   "mimetype": "text/x-python",
   "name": "python",
   "nbconvert_exporter": "python",
   "pygments_lexer": "ipython3",
   "version": "3.8.8"
  }
 },
 "nbformat": 4,
 "nbformat_minor": 5
}
